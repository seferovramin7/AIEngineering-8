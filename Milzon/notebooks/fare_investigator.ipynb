{
 "cells": [
  {
   "cell_type": "markdown",
   "id": "f60e8769",
   "metadata": {},
   "source": [
    "# Task 3: Fare Investigator 💰\n",
    "Investigate ticket price impact on survival!\n"
   ]
  },
  {
   "cell_type": "code",
   "execution_count": 1,
   "id": "2c618e6f",
   "metadata": {},
   "outputs": [],
   "source": [
    "import pandas as pd\n",
    "df = pd.read_csv('data/train.csv')\n",
    "df['FamilySize'] = df['SibSp'] + df['Parch'] + 1\n",
    "df['Sex'] = df['Sex'].map({'male': 0, 'female': 1})\n",
    "df['Age'] = df['Age'].fillna(df['Age'].median())\n",
    "df['Fare'] = df['Fare'].fillna(df['Fare'].median())\n",
    "df['Embarked'] = df['Embarked'].fillna(df['Embarked'].mode()[0])\n",
    "df['Embarked'] = df['Embarked'].map({'S': 0, 'C': 1, 'Q': 2})\n"
   ]
  },
  {
   "cell_type": "markdown",
   "id": "5930f42b",
   "metadata": {},
   "source": [
    "*Load and preprocess data: encode categories, fill missing values, and add FamilySize.*"
   ]
  },
  {
   "cell_type": "code",
   "execution_count": 2,
   "id": "d52ffb2a",
   "metadata": {},
   "outputs": [],
   "source": [
    "df['FarePerPerson'] = df['Fare'] / df['FamilySize']\n",
    "def get_fare_cat(fare):\n",
    "    if fare == 0:\n",
    "        return 'Free'\n",
    "    elif fare <= 10:\n",
    "        return 'Cheap'\n",
    "    elif fare <= 50:\n",
    "        return 'Moderate'\n",
    "    else:\n",
    "        return 'Expensive'\n",
    "df['FareCategory'] = df['FarePerPerson'].apply(get_fare_cat)\n"
   ]
  },
  {
   "cell_type": "markdown",
   "id": "9c6998b4",
   "metadata": {},
   "source": [
    "*Create new features: FarePerPerson and fare category. This allows analysis of ticket price impact per passenger.*"
   ]
  },
  {
   "cell_type": "code",
   "execution_count": 3,
   "id": "35592453",
   "metadata": {},
   "outputs": [
    {
     "data": {
      "image/png": "[encoded data removed]",
      "text/plain": [
       "<Figure size 640x480 with 1 Axes>"
      ]
     },
     "metadata": {},
     "output_type": "display_data"
    }
   ],
   "source": [
    "import seaborn as sns\n",
    "import matplotlib.pyplot as plt\n",
    "sns.barplot(x='FareCategory', y='Survived', data=df)\n",
    "plt.title(\"Survival Rate by Fare Category\")\n",
    "plt.show()\n"
   ]
  },
  {
   "cell_type": "markdown",
   "id": "00b70239",
   "metadata": {},
   "source": [
    "- Penumpang dengan tiket mahal memiliki peluang selamat jauh lebih tinggi, \n",
    "- sementara mereka yang gratis hampir tidak selamat sama sekali."
   ]
  },
  {
   "cell_type": "markdown",
   "id": "c731d739",
   "metadata": {},
   "source": [
    "*Visualize survival rates across different fare categories. Look for trends—did people with expensive tickets survive more?*"
   ]
  },
  {
   "cell_type": "code",
   "execution_count": 4,
   "id": "f02eebd6",
   "metadata": {},
   "outputs": [
    {
     "name": "stdout",
     "output_type": "stream",
     "text": [
      "Accuracy with total Fare: 0.8044692737430168\n",
      "Accuracy with FarePerPerson: 0.8044692737430168\n"
     ]
    }
   ],
   "source": [
    "from sklearn.model_selection import train_test_split\n",
    "from sklearn.linear_model import LogisticRegression\n",
    "from sklearn.metrics import accuracy_score\n",
    "\n",
    "X1 = df[['Fare', 'Pclass', 'Sex', 'Age', 'FamilySize']]\n",
    "X2 = df[['FarePerPerson', 'Pclass', 'Sex', 'Age', 'FamilySize']]\n",
    "y = df['Survived']\n",
    "\n",
    "X1_train, X1_test, y1_train, y1_test = train_test_split(X1, y, test_size=0.2, random_state=42)\n",
    "X2_train, X2_test, y2_train, y2_test = train_test_split(X2, y, test_size=0.2, random_state=42)\n",
    "model = LogisticRegression(max_iter=1000)\n",
    "model.fit(X1_train, y1_train)\n",
    "acc_fare = model.score(X1_test, y1_test)\n",
    "model.fit(X2_train, y2_train)\n",
    "acc_perperson = model.score(X2_test, y2_test)\n",
    "print(\"Accuracy with total Fare:\", acc_fare)\n",
    "print(\"Accuracy with FarePerPerson:\", acc_perperson)\n"
   ]
  },
  {
   "cell_type": "markdown",
   "id": "4b5da032",
   "metadata": {},
   "source": [
    "*Compare model accuracy using total fare vs fare per person as input features. Which one is more predictive?*"
   ]
  },
  {
   "cell_type": "markdown",
   "id": "80dbf1c7",
   "metadata": {},
   "source": [
    "**Task 3 Answers**\n",
    "\n",
    "**Does fare per person predict survival better than total fare?**  \n",
    "No, in this experiment, using FarePerPerson did not improve model accuracy compared to the total fare—both achieved an accuracy of 80.4%. So, for this dataset, dividing fare by family size didn't provide a predictive advantage.\n",
    "\n",
    "**Were expensive tickets worth it for survival?**  \n",
    "Yes, passengers in the Expensive fare category had a much higher survival rate, as shown in the bar chart. This suggests that higher-class tickets (with higher fares) significantly increased survival chances—likely because they were closer to lifeboats or received priority during evacuation.\n",
    "\n",
    "**Why might some passengers have free tickets?**  \n",
    "Some passengers may have received free tickets because they were staff, crew members, or received sponsored or complimentary passages. The survival rate for this group was the lowest, which could reflect their lower priority during rescue operations or that they were part of the working crew."
   ]
  }
 ],
 "metadata": {
  "kernelspec": {
   "display_name": "venv",
   "language": "python",
   "name": "python3"
  },
  "language_info": {
   "codemirror_mode": {
    "name": "ipython",
    "version": 3
   },
   "file_extension": ".py",
   "mimetype": "text/x-python",
   "name": "python",
   "nbconvert_exporter": "python",
   "pygments_lexer": "ipython3",
   "version": "3.11.0"
  }
 },
 "nbformat": 4,
 "nbformat_minor": 5
}
