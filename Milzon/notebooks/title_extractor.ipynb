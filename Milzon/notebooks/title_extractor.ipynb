{
 "cells": [
  {
   "cell_type": "markdown",
   "id": "8123382a",
   "metadata": {},
   "source": [
    "# Task 4: Title Extractor \n",
    "Extract titles from names and analyze their impact!\n"
   ]
  },
  {
   "cell_type": "code",
   "execution_count": null,
   "id": "5ad88f40",
   "metadata": {},
   "outputs": [],
   "source": [
    "import pandas as pd\n",
    "df = pd.read_csv('data/train.csv')\n",
    "df['FamilySize'] = df['SibSp'] + df['Parch'] + 1\n",
    "df['Sex'] = df['Sex'].map({'male': 0, 'female': 1})\n",
    "    # 'Sex': Must be changed to a number (eg: male=0, female=1), or use pd.get_dummies\n",
    "df['Age'] = df['Age'].fillna(df['Age'].median())\n",
    "df['Fare'] = df['Fare'].fillna(df['Fare'].median())\n",
    "df['Embarked'] = df['Embarked'].fillna(df['Embarked'].mode()[0])\n",
    "df['Embarked'] = df['Embarked'].map({'S': 0, 'C': 1, 'Q': 2})\n"
   ]
  },
  {
   "cell_type": "markdown",
   "id": "72f567ae",
   "metadata": {},
   "source": [
    "*Load and preprocess data as in previous tasks. This ensures the title analysis is based on clean data.*"
   ]
  },
  {
   "cell_type": "code",
   "execution_count": null,
   "id": "79f465b2",
   "metadata": {},
   "outputs": [],
   "source": [
    "# 1. Ekstrak Title\n",
    "df['Title'] = df['Name'].str.extract(' ([A-Za-z]+)\\.', expand=False)\n",
    "common_titles = ['Mr', 'Mrs', 'Miss', 'Master']\n",
    "df['Title'] = df['Title'].apply(lambda x: x if x in common_titles else 'Other')\n"
   ]
  },
  {
   "cell_type": "markdown",
   "id": "da27bafd",
   "metadata": {},
   "source": [
    "*Extract the 'Title' from each passenger's name, and group rare titles as 'Other'.*"
   ]
  },
  {
   "cell_type": "code",
   "execution_count": 9,
   "id": "7083dda8",
   "metadata": {},
   "outputs": [
    {
     "data": {
      "image/png": "[encoded data removed]",
      "text/plain": [
       "<Figure size 640x480 with 1 Axes>"
      ]
     },
     "metadata": {},
     "output_type": "display_data"
    }
   ],
   "source": [
    "import seaborn as sns\n",
    "import matplotlib.pyplot as plt\n",
    "sns.barplot(x='Title', y='Survived', data=df)\n",
    "plt.title(\"Survival Rate by Title\")\n",
    "plt.show()\n",
    "# Train a model with the new feature"
   ]
  },
  {
   "cell_type": "markdown",
   "id": "57eb947e",
   "metadata": {},
   "source": [
    "*Visualize survival rates by title to reveal patterns (e.g., Mrs, Miss, Master).*"
   ]
  },
  {
   "cell_type": "code",
   "execution_count": null,
   "id": "e1eba97e",
   "metadata": {},
   "outputs": [
    {
     "name": "stdout",
     "output_type": "stream",
     "text": [
      "Accuracy with Title: 0.7877094972067039\n"
     ]
    }
   ],
   "source": [
    "from sklearn.model_selection import train_test_split\n",
    "from sklearn.linear_model import LogisticRegression\n",
    "from sklearn.metrics import accuracy_score\n",
    "\n",
    "X = pd.concat([df[['Pclass', 'Sex', 'Age', 'Fare', 'FamilySize']],\n",
    "               pd.get_dummies(df['Title'])], axis=1)\n",
    "    # Merge straight numeric columns (Pclass, Sex, Age, Fare, FamilySize)\n",
    "    # Merge dummy variables resulting from pd.get_dummies(df['Title']) for each unique value of Title (Mr, Mrs, Miss, Master, Other, etc.).\n",
    "    # 'FamilySize': Make sure it has been created before in code extractor\n",
    "y = df['Survived']\n",
    "X_train, X_test, y_train, y_test = train_test_split(X, y, test_size=0.2, random_state=42)\n",
    "model = LogisticRegression(max_iter=1000)\n",
    "model.fit(X_train, y_train)\n",
    "y_pred = model.predict(X_test)\n",
    "print(\"Accuracy with Title:\", accuracy_score(y_test, y_pred))\n",
    "# The accuracy with the Title feature is printed above."
   ]
  },
  {
   "cell_type": "markdown",
   "id": "f0442035",
   "metadata": {},
   "source": [
    "*Evaluate model accuracy after including title as a feature. Does this new feature add value?*"
   ]
  },
  {
   "cell_type": "markdown",
   "id": "ccd2f529",
   "metadata": {},
   "source": [
    "**Task 4 Answers**\n",
    "\n",
    "**Which titles had the highest survival rates?**  \n",
    "Mrs had the highest survival rate, followed by Miss and Master. As seen in the bar chart, married women (Mrs) and unmarried women (Miss) had much better chances of survival compared to men (Mr).\n",
    "\n",
    "**Did adding titles improve your model's accuracy?**  \n",
    "Adding the Title feature to the model gave an accuracy of 0.7877. This is slightly lower than some other feature sets in this experiment, but still significant. Titles add extra context about age, gender, and social status, which can help the model pick up hidden patterns.\n",
    "\n",
    "**What does \"Master\" mean, and why might it be important?**  \n",
    "“Master” was a formal title used for young boys (usually under 13 years old). It's important because Titanic’s evacuation procedures and social norms prioritized children, so this title directly signaled a higher chance of survival compared to adult men."
   ]
  }
 ],
 "metadata": {
  "kernelspec": {
   "display_name": "venv",
   "language": "python",
   "name": "python3"
  },
  "language_info": {
   "codemirror_mode": {
    "name": "ipython",
    "version": 3
   },
   "file_extension": ".py",
   "mimetype": "text/x-python",
   "name": "python",
   "nbconvert_exporter": "python",
   "pygments_lexer": "ipython3",
   "version": "3.11.0"
  }
 },
 "nbformat": 4,
 "nbformat_minor": 5
}
