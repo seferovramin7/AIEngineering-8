{
 "cells": [
  {
   "cell_type": "markdown",
   "id": "63f2b983",
   "metadata": {},
   "source": [
    "# Task 5: Model Experimenter \n",
    "Test and compare different machine learning models.\n"
   ]
  },
  {
   "cell_type": "code",
   "execution_count": 2,
   "id": "ec27851d",
   "metadata": {},
   "outputs": [],
   "source": [
    "import pandas as pd\n",
    "df = pd.read_csv('data/train.csv')\n",
    "df['FamilySize'] = df['SibSp'] + df['Parch'] + 1\n",
    "df['Sex'] = df['Sex'].map({'male': 0, 'female': 1})\n",
    "df['Age'] = df['Age'].fillna(df['Age'].median())\n",
    "df['Fare'] = df['Fare'].fillna(df['Fare'].median())\n",
    "df['Embarked'] = df['Embarked'].fillna(df['Embarked'].mode()[0])\n",
    "df['Embarked'] = df['Embarked'].map({'S': 0, 'C': 1, 'Q': 2})\n",
    "X = df[['Pclass', 'Sex', 'Age', 'Fare', 'FamilySize']]\n",
    "y = df['Survived']\n"
   ]
  },
  {
   "cell_type": "markdown",
   "id": "e8efb979",
   "metadata": {},
   "source": [
    "*Preprocess Titanic data, create features, and prepare target variable for model comparison.*"
   ]
  },
  {
   "cell_type": "code",
   "execution_count": 3,
   "id": "60c3f8d2",
   "metadata": {},
   "outputs": [
    {
     "data": {
      "text/html": [
       "<div>\n",
       "<style scoped>\n",
       "    .dataframe tbody tr th:only-of-type {\n",
       "        vertical-align: middle;\n",
       "    }\n",
       "\n",
       "    .dataframe tbody tr th {\n",
       "        vertical-align: top;\n",
       "    }\n",
       "\n",
       "    .dataframe thead th {\n",
       "        text-align: right;\n",
       "    }\n",
       "</style>\n",
       "<table border=\"1\" class=\"dataframe\">\n",
       "  <thead>\n",
       "    <tr style=\"text-align: right;\">\n",
       "      <th></th>\n",
       "      <th>Model</th>\n",
       "      <th>Accuracy</th>\n",
       "      <th>TrainTime</th>\n",
       "    </tr>\n",
       "  </thead>\n",
       "  <tbody>\n",
       "    <tr>\n",
       "      <th>0</th>\n",
       "      <td>Logistic Regression</td>\n",
       "      <td>0.804469</td>\n",
       "      <td>0.056659</td>\n",
       "    </tr>\n",
       "    <tr>\n",
       "      <th>1</th>\n",
       "      <td>Decision Tree</td>\n",
       "      <td>0.754190</td>\n",
       "      <td>0.027747</td>\n",
       "    </tr>\n",
       "    <tr>\n",
       "      <th>2</th>\n",
       "      <td>Random Forest</td>\n",
       "      <td>0.810056</td>\n",
       "      <td>0.673436</td>\n",
       "    </tr>\n",
       "    <tr>\n",
       "      <th>3</th>\n",
       "      <td>SVM</td>\n",
       "      <td>0.659218</td>\n",
       "      <td>0.258173</td>\n",
       "    </tr>\n",
       "  </tbody>\n",
       "</table>\n",
       "</div>"
      ],
      "text/plain": [
       "                 Model  Accuracy  TrainTime\n",
       "0  Logistic Regression  0.804469   0.056659\n",
       "1        Decision Tree  0.754190   0.027747\n",
       "2        Random Forest  0.810056   0.673436\n",
       "3                  SVM  0.659218   0.258173"
      ]
     },
     "execution_count": 3,
     "metadata": {},
     "output_type": "execute_result"
    }
   ],
   "source": [
    "from sklearn.model_selection import train_test_split\n",
    "from sklearn.linear_model import LogisticRegression\n",
    "from sklearn.tree import DecisionTreeClassifier\n",
    "from sklearn.ensemble import RandomForestClassifier\n",
    "from sklearn.svm import SVC\n",
    "from sklearn.metrics import accuracy_score\n",
    "import time\n",
    "\n",
    "models = {\n",
    "    \"Logistic Regression\": LogisticRegression(max_iter=1000),\n",
    "    \"Decision Tree\": DecisionTreeClassifier(),\n",
    "    \"Random Forest\": RandomForestClassifier(),\n",
    "    \"SVM\": SVC(probability=True, random_state=42)\n",
    "}\n",
    "results = []\n",
    "X_train, X_test, y_train, y_test = train_test_split(X, y, test_size=0.2, random_state=42)\n",
    "for name, model in models.items():\n",
    "    start = time.time()\n",
    "    model.fit(X_train, y_train)\n",
    "    end = time.time()\n",
    "    y_pred = model.predict(X_test)\n",
    "    acc = accuracy_score(y_test, y_pred)\n",
    "    duration = end - start\n",
    "    results.append({'Model': name, 'Accuracy': acc, 'TrainTime': duration})\n",
    "import pandas as pd\n",
    "results_df = pd.DataFrame(results)\n",
    "results_df\n"
   ]
  },
  {
   "cell_type": "markdown",
   "id": "c8b2af2c",
   "metadata": {},
   "source": [
    "*Train and test four machine learning models. Compare their accuracy and training speed.*"
   ]
  },
  {
   "cell_type": "code",
   "execution_count": 4,
   "id": "824733d0",
   "metadata": {},
   "outputs": [
    {
     "data": {
      "image/png": "[encoded data removed]",
      "text/plain": [
       "<Figure size 640x480 with 1 Axes>"
      ]
     },
     "metadata": {},
     "output_type": "display_data"
    }
   ],
   "source": [
    "import matplotlib.pyplot as plt\n",
    "plt.bar(results_df['Model'], results_df['Accuracy'])\n",
    "plt.ylabel(\"Accuracy\")\n",
    "plt.title(\"Model Comparison\")\n",
    "plt.show()\n",
    "# The accuracy of each model is shown in the bar chart above. Random Forest and Decision Tree models generally perform better than Logistic Regression and SVM on this dataset."
   ]
  },
  {
   "cell_type": "markdown",
   "id": "42709e48",
   "metadata": {},
   "source": [
    "*Visualize the accuracy of each model using a bar chart for easy comparison.*"
   ]
  },
  {
   "cell_type": "markdown",
   "id": "99967682",
   "metadata": {},
   "source": [
    "**Task 5 Answers**\n",
    "\n",
    "**Which model performed best on your data?**  \n",
    "The Random Forest model performed the best, with the highest accuracy of 0.810. Logistic Regression was just slightly behind at 0.804, but Random Forest takes the lead.\n",
    "\n",
    "**Which model was fastest to train?**  \n",
    "The Decision Tree was the fastest to train, with a training time of 0.028 seconds. That’s much quicker than Random Forest or SVM, which both took considerably longer.\n",
    "\n",
    "**If you had to explain predictions to a non-technical person, which model would you choose and why?**  \n",
    "I’d choose Logistic Regression for explanations to a non-technical person. Here’s why:\n",
    "-    Logistic Regression gives clear, easy-to-understand results (“this factor increases your chance of X by Y%”).\n",
    "-   The model is basically a weighted sum—it’s like saying, “we look at these features, multiply them by some numbers, and add them up.”\n",
    "-   You can point to how each feature (like age, fare, or class) directly impacts the probability, which is much easier to grasp than the “black box” of Random Forest or SVM.\n",
    "\n",
    "So, Logistic Regression is your go-to for explainability, even if Random Forest slightly outperforms it on accuracy.\n"
   ]
  },
  {
   "cell_type": "markdown",
   "id": "77c3ab5d",
   "metadata": {},
   "source": [
    "| Model               | Accuracy | Train Time (s) | Best Use Case                      |\n",
    "| ------------------- | -------- | -------------- | ---------------------------------- |\n",
    "| Logistic Regression | 0.804    | 0.057          | Explanations, quick insights       |\n",
    "| Decision Tree       | 0.754    | 0.028          | Fast prototyping, feature insights |\n",
    "| Random Forest       | 0.810    | 0.673          | Best accuracy, robust predictions  |\n",
    "| SVM                 | 0.659    | 0.258          | Not recommended for this dataset   |\n"
   ]
  }
 ],
 "metadata": {
  "kernelspec": {
   "display_name": "venv",
   "language": "python",
   "name": "python3"
  },
  "language_info": {
   "codemirror_mode": {
    "name": "ipython",
    "version": 3
   },
   "file_extension": ".py",
   "mimetype": "text/x-python",
   "name": "python",
   "nbconvert_exporter": "python",
   "pygments_lexer": "ipython3",
   "version": "3.11.0"
  }
 },
 "nbformat": 4,
 "nbformat_minor": 5
}
