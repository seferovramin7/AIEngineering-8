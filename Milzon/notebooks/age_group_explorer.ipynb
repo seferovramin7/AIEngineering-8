{
 "cells": [
  {
   "cell_type": "markdown",
   "id": "6c0751c2",
   "metadata": {},
   "source": [
    "# Task 2: Age Group Explorer \n",
    "Custom age groups to improve survival predictions.\n"
   ]
  },
  {
   "cell_type": "code",
   "execution_count": 6,
   "id": "c4679ea4",
   "metadata": {},
   "outputs": [],
   "source": [
    "import pandas as pd\n",
    "df = pd.read_csv('data/train.csv')\n",
    "df['FamilySize'] = df['SibSp'] + df['Parch'] + 1\n",
    "df['Sex'] = df['Sex'].map({'male': 0, 'female': 1})\n",
    "df['Age'] = df['Age'].fillna(df['Age'].median())\n",
    "df['Fare'] = df['Fare'].fillna(df['Fare'].median())\n",
    "df['Embarked'] = df['Embarked'].fillna(df['Embarked'].mode()[0])\n",
    "df['Embarked'] = df['Embarked'].map({'S': 0, 'C': 1, 'Q': 2})\n"
   ]
  },
  {
   "cell_type": "markdown",
   "id": "877b032a",
   "metadata": {},
   "source": [
    "*Load and preprocess Titanic data: handling missing values, encoding categorical features, and creating FamilySize.*\n"
   ]
  },
  {
   "cell_type": "code",
   "execution_count": 7,
   "id": "de79fbcc",
   "metadata": {},
   "outputs": [],
   "source": [
    "def get_age_group(age):\n",
    "    if age <= 2:\n",
    "        return 'Baby'\n",
    "    elif age <= 12:\n",
    "        return 'Child'\n",
    "    elif age <= 19:\n",
    "        return 'Teen'\n",
    "    elif age <= 59:\n",
    "        return 'Adult'\n",
    "    else:\n",
    "        return 'Senior'\n",
    "df['AgeGroup'] = df['Age'].apply(get_age_group)\n"
   ]
  },
  {
   "cell_type": "markdown",
   "id": "64f393da",
   "metadata": {},
   "source": [
    "*Create custom age group categories to better reflect survival patterns across ages.*"
   ]
  },
  {
   "cell_type": "markdown",
   "id": "74d28eb9",
   "metadata": {},
   "source": [
    "Survival rate plot\n",
    "*Visualize survival rates for each age group. This helps us quickly see which groups survived more.*"
   ]
  },
  {
   "cell_type": "code",
   "execution_count": 8,
   "id": "2d9fee64",
   "metadata": {},
   "outputs": [
    {
     "name": "stdout",
     "output_type": "stream",
     "text": [
      "Requirement already satisfied: seaborn in d:\\aiengineering-8\\venv\\lib\\site-packages (0.13.2)\n",
      "Requirement already satisfied: numpy!=1.24.0,>=1.20 in d:\\aiengineering-8\\venv\\lib\\site-packages (from seaborn) (2.3.1)\n",
      "Requirement already satisfied: pandas>=1.2 in d:\\aiengineering-8\\venv\\lib\\site-packages (from seaborn) (2.3.0)\n",
      "Requirement already satisfied: matplotlib!=3.6.1,>=3.4 in d:\\aiengineering-8\\venv\\lib\\site-packages (from seaborn) (3.10.3)\n",
      "Requirement already satisfied: contourpy>=1.0.1 in d:\\aiengineering-8\\venv\\lib\\site-packages (from matplotlib!=3.6.1,>=3.4->seaborn) (1.3.2)\n",
      "Requirement already satisfied: cycler>=0.10 in d:\\aiengineering-8\\venv\\lib\\site-packages (from matplotlib!=3.6.1,>=3.4->seaborn) (0.12.1)\n",
      "Requirement already satisfied: fonttools>=4.22.0 in d:\\aiengineering-8\\venv\\lib\\site-packages (from matplotlib!=3.6.1,>=3.4->seaborn) (4.58.5)\n",
      "Requirement already satisfied: kiwisolver>=1.3.1 in d:\\aiengineering-8\\venv\\lib\\site-packages (from matplotlib!=3.6.1,>=3.4->seaborn) (1.4.8)\n",
      "Requirement already satisfied: packaging>=20.0 in d:\\aiengineering-8\\venv\\lib\\site-packages (from matplotlib!=3.6.1,>=3.4->seaborn) (25.0)\n",
      "Requirement already satisfied: pillow>=8 in d:\\aiengineering-8\\venv\\lib\\site-packages (from matplotlib!=3.6.1,>=3.4->seaborn) (11.3.0)\n",
      "Requirement already satisfied: pyparsing>=2.3.1 in d:\\aiengineering-8\\venv\\lib\\site-packages (from matplotlib!=3.6.1,>=3.4->seaborn) (3.2.3)\n",
      "Requirement already satisfied: python-dateutil>=2.7 in d:\\aiengineering-8\\venv\\lib\\site-packages (from matplotlib!=3.6.1,>=3.4->seaborn) (2.9.0.post0)\n",
      "Requirement already satisfied: pytz>=2020.1 in d:\\aiengineering-8\\venv\\lib\\site-packages (from pandas>=1.2->seaborn) (2025.2)\n",
      "Requirement already satisfied: tzdata>=2022.7 in d:\\aiengineering-8\\venv\\lib\\site-packages (from pandas>=1.2->seaborn) (2025.2)\n",
      "Requirement already satisfied: six>=1.5 in d:\\aiengineering-8\\venv\\lib\\site-packages (from python-dateutil>=2.7->matplotlib!=3.6.1,>=3.4->seaborn) (1.17.0)\n",
      "Note: you may need to restart the kernel to use updated packages.\n"
     ]
    },
    {
     "data": {
      "image/png": "[encoded data removed]",
      "text/plain": [
       "<Figure size 640x480 with 1 Axes>"
      ]
     },
     "metadata": {},
     "output_type": "display_data"
    }
   ],
   "source": [
    "%pip install seaborn\n",
    "\n",
    "import seaborn as sns\n",
    "import matplotlib.pyplot as plt\n",
    "sns.barplot(x='AgeGroup', y='Survived', data=df)\n",
    "plt.title(\"Survival Rate by Age Group\")\n",
    "plt.show()\n"
   ]
  },
  {
   "cell_type": "markdown",
   "id": "fb63c87a",
   "metadata": {},
   "source": [
    "Bar chart showing Titanic survival rates by custom age groups. Babies had the highest survival rate, while seniors had the lowest. This highlights the prioritization of infants during evacuation and the vulnerability of older passengers."
   ]
  },
  {
   "cell_type": "markdown",
   "id": "042bfa54",
   "metadata": {},
   "source": [
    "Model accuracy\n",
    "- *Train and test a logistic regression model using the new age groups. Compare this accuracy to your previous model.*"
   ]
  },
  {
   "cell_type": "code",
   "execution_count": 9,
   "id": "15b3634b",
   "metadata": {},
   "outputs": [
    {
     "name": "stdout",
     "output_type": "stream",
     "text": [
      "Accuracy with new AgeGroup: 0.7932960893854749\n"
     ]
    }
   ],
   "source": [
    "from sklearn.model_selection import train_test_split\n",
    "from sklearn.linear_model import LogisticRegression\n",
    "from sklearn.metrics import accuracy_score\n",
    "\n",
    "# Features: Pclass, Sex, Fare, FamilySize + One-hot AgeGroup\n",
    "X = pd.concat([df[['Pclass', 'Sex', 'Fare', 'FamilySize']],\n",
    "               pd.get_dummies(df['AgeGroup'])], axis=1)\n",
    "y = df['Survived']\n",
    "\n",
    "X_train, X_test, y_train, y_test = train_test_split(X, y, test_size=0.2, random_state=42)\n",
    "model = LogisticRegression(max_iter=1000)\n",
    "model.fit(X_train, y_train)\n",
    "y_pred = model.predict(X_test)\n",
    "print(\"Accuracy with new AgeGroup:\", accuracy_score(y_test, y_pred))\n"
   ]
  },
  {
   "cell_type": "markdown",
   "id": "24f48782",
   "metadata": {},
   "source": [
    "-    After implementing the new age groups (Baby, Child, Teen, Adult, Senior), the model achieved an accuracy of 79.3%.\n",
    "-    This suggests that more granular age categories can help the model better differentiate survival patterns among passengers.\n"
   ]
  },
  {
   "cell_type": "markdown",
   "id": "60047c8d",
   "metadata": {},
   "source": [
    "**Task 2 Answers**\n",
    "\n",
    "**Did your new age groups improve accuracy?**  \n",
    "Yes, the new age groups slightly improved the model’s accuracy to 79.3%. This suggests that dividing ages into more detailed categories helps the model capture more specific survival patterns.\n",
    "\n",
    "**Which age group had the highest survival rate?**  \n",
    "Based on the bar chart, Babies (0–2 years) had the highest survival rate among all groups.\n",
    "\n",
    "**Why might babies have different survival rates than other children?**  \n",
    "Babies were often prioritized during rescue operations (“women and children first” policy), and adults (especially mothers) may have made extra efforts to save infants. This resulted in a higher survival rate for babies compared to older children and teens.\n"
   ]
  }
 ],
 "metadata": {
  "kernelspec": {
   "display_name": "venv",
   "language": "python",
   "name": "python3"
  },
  "language_info": {
   "codemirror_mode": {
    "name": "ipython",
    "version": 3
   },
   "file_extension": ".py",
   "mimetype": "text/x-python",
   "name": "python",
   "nbconvert_exporter": "python",
   "pygments_lexer": "ipython3",
   "version": "3.11.0"
  }
 },
 "nbformat": 4,
 "nbformat_minor": 5
}
