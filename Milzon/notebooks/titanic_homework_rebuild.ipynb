{
 "cells": [
  {
   "cell_type": "markdown",
   "id": "822f4a7e",
   "metadata": {},
   "source": [
    "# Titanic Survival Analysis — Homework Project\n",
    "\n",
    "Author: Milzon  \n",
    "Dataset: Titanic (Kaggle)"
   ]
  },
  {
   "cell_type": "markdown",
   "id": "fe335be0",
   "metadata": {},
   "source": [
    "## Step 1. Data Loading and Initial Exploration"
   ]
  },
  {
   "cell_type": "code",
   "execution_count": null,
   "id": "b8255a54",
   "metadata": {},
   "outputs": [],
   "source": [
    "import pandas as pd\n",
    "\n",
    "# Load data\n",
    "df = pd.read_csv('data/train.csv')\n",
    "df.head()"
   ]
  },
  {
   "cell_type": "markdown",
   "id": "a1c26ca1",
   "metadata": {},
   "source": [
    "**Caption:**  \n",
    "First five rows of the Titanic dataset. Let's explore the features and look for missing values or anomalies."
   ]
  },
  {
   "cell_type": "markdown",
   "id": "31d88cfa",
   "metadata": {},
   "source": [
    "## Step 2. Exploratory Data Analysis (EDA)"
   ]
  },
  {
   "cell_type": "code",
   "execution_count": null,
   "id": "30886381",
   "metadata": {},
   "outputs": [],
   "source": [
    "df.info()\n",
    "df.describe()\n",
    "df.isnull().sum()"
   ]
  },
  {
   "cell_type": "markdown",
   "id": "c9a40ece",
   "metadata": {},
   "source": [
    "**Caption:**  \n",
    "Checking data types, summary statistics, and missing values for initial EDA."
   ]
  },
  {
   "cell_type": "code",
   "execution_count": null,
   "id": "474442aa",
   "metadata": {},
   "outputs": [],
   "source": [
    "import matplotlib.pyplot as plt\n",
    "\n",
    "# Visualize survival counts\n",
    "plt.figure(figsize=(5,3))\n",
    "df['Survived'].value_counts().plot(kind='bar', color=['skyblue', 'salmon'])\n",
    "plt.title('Survival Distribution')\n",
    "plt.xlabel('Survived')\n",
    "plt.ylabel('Count')\n",
    "plt.show()"
   ]
  },
  {
   "cell_type": "markdown",
   "id": "ea5b9c1e",
   "metadata": {},
   "source": [
    "**Figure 1.**  \n",
    "Most passengers did not survive the Titanic tragedy, as shown in the bar plot."
   ]
  },
  {
   "cell_type": "code",
   "execution_count": null,
   "id": "6622abe7",
   "metadata": {},
   "outputs": [],
   "source": [
    "# Survival rate by gender\n",
    "df.groupby('Sex')['Survived'].mean().plot(kind='bar', color=['pink', 'blue'])\n",
    "plt.title('Survival Rate by Gender')\n",
    "plt.ylabel('Survival Rate')\n",
    "plt.show()"
   ]
  },
  {
   "cell_type": "markdown",
   "id": "6bd51ef5",
   "metadata": {},
   "source": [
    "**Figure 2.**  \n",
    "Female passengers had a much higher survival rate compared to male passengers."
   ]
  },
  {
   "cell_type": "markdown",
   "id": "53a987c2",
   "metadata": {},
   "source": [
    "## Step 3. Data Preprocessing"
   ]
  },
  {
   "cell_type": "code",
   "execution_count": null,
   "id": "3b216b99",
   "metadata": {},
   "outputs": [],
   "source": [
    "# Fill missing values and encode categorical data\n",
    "df['Age'].fillna(df['Age'].median(), inplace=True)\n",
    "df['Embarked'].fillna(df['Embarked'].mode()[0], inplace=True)\n",
    "df['Sex'] = df['Sex'].map({'male': 0, 'female': 1})\n",
    "\n",
    "from sklearn.preprocessing import LabelEncoder\n",
    "le = LabelEncoder()\n",
    "df['Embarked'] = le.fit_transform(df['Embarked'])"
   ]
  },
  {
   "cell_type": "markdown",
   "id": "b91eb424",
   "metadata": {},
   "source": [
    "**Caption:**  \n",
    "Missing values handled, categorical features encoded for modeling."
   ]
  },
  {
   "cell_type": "markdown",
   "id": "aab69016",
   "metadata": {},
   "source": [
    "## Step 4. Model Training and Evaluation"
   ]
  },
  {
   "cell_type": "code",
   "execution_count": null,
   "id": "d92bd741",
   "metadata": {},
   "outputs": [],
   "source": [
    "from sklearn.model_selection import train_test_split\n",
    "from sklearn.linear_model import LogisticRegression\n",
    "from sklearn.metrics import accuracy_score, classification_report, confusion_matrix\n",
    "\n",
    "features = ['Pclass', 'Sex', 'Age', 'SibSp', 'Parch', 'Fare', 'Embarked']\n",
    "X = df[features]\n",
    "y = df['Survived']\n",
    "\n",
    "X_train, X_test, y_train, y_test = train_test_split(X, y, test_size=0.2, random_state=42)\n",
    "\n",
    "model = LogisticRegression(max_iter=1000)\n",
    "model.fit(X_train, y_train)\n",
    "y_pred = model.predict(X_test)\n",
    "\n",
    "print('Accuracy:', accuracy_score(y_test, y_pred))\n",
    "print(confusion_matrix(y_test, y_pred))\n",
    "print(classification_report(y_test, y_pred))"
   ]
  },
  {
   "cell_type": "markdown",
   "id": "118f6dc6",
   "metadata": {},
   "source": [
    "**Caption:**  \n",
    "Logistic Regression model evaluation metrics on test set."
   ]
  },
  {
   "cell_type": "code",
   "execution_count": null,
   "id": "13bcdfc9",
   "metadata": {},
   "outputs": [],
   "source": [
    "# Feature importance (for logistic regression, use coefficients)\n",
    "importance = pd.Series(model.coef_[0], index=features)\n",
    "importance.sort_values().plot(kind='barh')\n",
    "plt.title('Feature Importance')\n",
    "plt.show()"
   ]
  },
  {
   "cell_type": "markdown",
   "id": "462f7e24",
   "metadata": {},
   "source": [
    "**Figure 3.**  \n",
    "Feature importance according to logistic regression coefficients."
   ]
  },
  {
   "cell_type": "markdown",
   "id": "a5ffd04d",
   "metadata": {},
   "source": [
    "## Step 5. Conclusions and Next Steps\n",
    "\n",
    "- Majority of Titanic passengers did not survive.\n",
    "- Gender and passenger class are the most significant features for survival prediction.\n",
    "- Logistic Regression achieves decent accuracy with basic preprocessing.\n",
    "\n",
    "**Next steps:**  \n",
    "- Try other models (Random Forest, SVM)\n",
    "- Advanced feature engineering (e.g., family size, title extraction)\n",
    "- Hyperparameter tuning"
   ]
  }
 ],
 "metadata": {
  "language_info": {
   "name": "python"
  }
 },
 "nbformat": 4,
 "nbformat_minor": 5
}
