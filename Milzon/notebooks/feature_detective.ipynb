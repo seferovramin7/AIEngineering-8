{
 "cells": [
  {
   "cell_type": "markdown",
   "id": "611f3282",
   "metadata": {},
   "source": [
    "# Task 1: Feature Detective 🕵️‍♀️\n",
    "Analyzing which features are most important for Titanic survival prediction by removing them one by one.\n"
   ]
  },
  {
   "cell_type": "code",
   "execution_count": 5,
   "id": "39888854",
   "metadata": {},
   "outputs": [
    {
     "name": "stdout",
     "output_type": "stream",
     "text": [
      "d:\\AIEngineering-8\\Milzon\\notebooks\n"
     ]
    }
   ],
   "source": [
    "import os\n",
    "print(os.getcwd())"
   ]
  },
  {
   "cell_type": "code",
   "execution_count": 7,
   "id": "97888cf1",
   "metadata": {},
   "outputs": [],
   "source": [
    "import pandas as pd\n",
    "from sklearn.model_selection import train_test_split\n",
    "from sklearn.linear_model import LogisticRegression\n",
    "from sklearn.metrics import accuracy_score\n",
    "\n",
    "df = pd.read_csv('../data/train.csv')\n",
    "df['FamilySize'] = df['SibSp'] + df['Parch'] + 1 "
   ]
  },
  {
   "cell_type": "code",
   "execution_count": 9,
   "id": "c4c3945b",
   "metadata": {},
   "outputs": [],
   "source": [
    "df['FamilySize'] = df['SibSp'] + df['Parch'] + 1\n",
    "df['Sex'] = df['Sex'].map({'male': 0, 'female': 1})\n",
    "df['Age'] = df['Age'].fillna(df['Age'].median())\n",
    "df['Fare'] = df['Fare'].fillna(df['Fare'].median())\n",
    "df['Embarked'] = df['Embarked'].fillna(df['Embarked'].mode()[0])\n",
    "df['Embarked'] = df['Embarked'].map({'S': 0, 'C': 1, 'Q': 2})\n"
   ]
  },
  {
   "cell_type": "code",
   "execution_count": 10,
   "id": "1d1ed954",
   "metadata": {},
   "outputs": [],
   "source": [
    "features = ['Pclass', 'Sex', 'Age', 'FamilySize']\n",
    "y = df['Survived']\n"
   ]
  },
  {
   "cell_type": "markdown",
   "id": "2ac9fafb",
   "metadata": {},
   "source": [
    "### Baseline Logistic Regression Model with Data Cleaning\n",
    "\n",
    "In this section, we'll train a baseline Logistic Regression model using the Titanic dataset.  \n",
    "Before training, we'll ensure all categorical features are encoded numerically and missing values are handled appropriately.\n"
   ]
  },
  {
   "cell_type": "code",
   "execution_count": 13,
   "id": "5e5914ba",
   "metadata": {},
   "outputs": [
    {
     "name": "stdout",
     "output_type": "stream",
     "text": [
      "Baseline Logistic Regression Accuracy: 0.804\n"
     ]
    }
   ],
   "source": [
    "import pandas as pd\n",
    "from sklearn.model_selection import train_test_split\n",
    "from sklearn.linear_model import LogisticRegression\n",
    "from sklearn.metrics import accuracy_score\n",
    "\n",
    "# Load data\n",
    "df = pd.read_csv('../data/train.csv')\n",
    "\n",
    "# Feature engineering\n",
    "df['FamilySize'] = df['SibSp'] + df['Parch'] + 1\n",
    "\n",
    "# Select features and target\n",
    "features = ['Pclass', 'Sex', 'Age', 'Fare', 'FamilySize']  # Modify as needed\n",
    "X = df[features].copy()      # <<-- Tambah .copy() DI SINI!\n",
    "y = df['Survived']\n",
    "\n",
    "# Encode categorical features (Sex)\n",
    "X['Sex'] = X['Sex'].map({'male': 0, 'female': 1})\n",
    "\n",
    "# Handle missing values\n",
    "X['Age'] = X['Age'].fillna(X['Age'].median())\n",
    "X['Fare'] = X['Fare'].fillna(X['Fare'].median())\n",
    "\n",
    "# Split the data\n",
    "X_train, X_test, y_train, y_test = train_test_split(X, y, test_size=0.2, random_state=42)\n",
    "\n",
    "# Train Logistic Regression\n",
    "model = LogisticRegression(max_iter=1000)\n",
    "model.fit(X_train, y_train)\n",
    "\n",
    "# Predict and evaluate\n",
    "y_pred = model.predict(X_test)\n",
    "baseline_acc = accuracy_score(y_test, y_pred)\n",
    "print(f\"Baseline Logistic Regression Accuracy: {baseline_acc:.3f}\")\n"
   ]
  },
  {
   "cell_type": "markdown",
   "id": "f6a67b70",
   "metadata": {},
   "source": [
    "### Data Preparation & Baseline Logistic Regression (Best Practice)\n",
    "\n",
    "In this step, we prepare the Titanic dataset for modeling and train a baseline Logistic Regression classifier.  \n",
    "Key best practices are applied to avoid warnings and ensure reproducibility:\n",
    "\n",
    "- **Feature Engineering:** We create a new feature `FamilySize` by combining `SibSp`, `Parch`, and the passenger themselves.\n",
    "- **Feature Selection:** We select a subset of relevant features for prediction.\n",
    "- **Safe Data Slicing:** We use `.copy()` when creating `X` to avoid the `SettingWithCopyWarning` and keep our original dataframe intact.\n",
    "- **Categorical Encoding:** We convert the `Sex` column to numeric values for model compatibility.\n",
    "- **Missing Value Handling:** We fill missing values in `Age` and `Fare` using the median.\n",
    "- **Train-Test Split:** We split the data for model validation.\n",
    "- **Model Training:** We fit a baseline Logistic Regression model and check its accuracy.\n",
    "\n",
    "> **Note:** Using `.copy()` when subsetting features is a standard pandas best practice to prevent unintended side effects or warnings.\n",
    "\n",
    "The following cell implements all of the above.\n"
   ]
  },
  {
   "cell_type": "markdown",
   "id": "96024514",
   "metadata": {},
   "source": [
    "**Baseline Accuracy:** This is the accuracy when all main features are included in the model.\n"
   ]
  },
  {
   "cell_type": "code",
   "execution_count": 15,
   "id": "01d30c96",
   "metadata": {},
   "outputs": [],
   "source": [
    "# Remove each feature one by one\n",
    "results = []\n",
    "for remove_feature in features:\n",
    "    selected = [f for f in features if f != remove_feature]\n",
    "    X = df[selected].copy()  # pakai .copy() supaya aman\n",
    "\n",
    "    # Encode categorical features if present\n",
    "    if 'Sex' in selected:\n",
    "        X['Sex'] = X['Sex'].map({'male': 0, 'female': 1})\n",
    "    if 'Embarked' in selected:\n",
    "        X['Embarked'] = X['Embarked'].fillna(X['Embarked'].mode()[0])\n",
    "        X['Embarked'] = X['Embarked'].map({'S': 0, 'C': 1, 'Q': 2})  # contoh mapping\n",
    "\n",
    "    # Fill missing values (untuk numerik)\n",
    "    for col in ['Age', 'Fare']:\n",
    "        if col in selected:\n",
    "            X[col] = X[col].fillna(X[col].median())\n",
    "    \n",
    "    X_train, X_test, y_train, y_test = train_test_split(X, y, test_size=0.2, random_state=42)\n",
    "    model = LogisticRegression(max_iter=1000)\n",
    "    model.fit(X_train, y_train)\n",
    "    y_pred = model.predict(X_test)\n",
    "    acc = accuracy_score(y_test, y_pred)\n",
    "    results.append({'Removed': remove_feature, 'Accuracy': acc})\n",
    "\n"
   ]
  },
  {
   "cell_type": "markdown",
   "id": "eb2a3a31",
   "metadata": {},
   "source": [
    "#### One-by-One Feature Removal Loop: Checking Feature Importance\n",
    "\n",
    "In this workflow, we analyze the importance of each feature by systematically removing one feature at a time and observing how the model accuracy changes.\n",
    "\n",
    "**Process Overview:**\n",
    "1. **Loop through each feature:** For every feature in our selected list, we create a new subset of data without that feature.\n",
    "2. **Safe slicing:** We use `.copy()` to avoid pandas warnings and accidental data modification.\n",
    "3. **Categorical encoding:** After selecting features, we encode any categorical columns (e.g., `Sex`, `Embarked`) to numeric values, since logistic regression requires numbers.\n",
    "4. **Missing value imputation:** For each subset, we fill missing values (e.g., in `Age`, `Fare`, `Embarked`) to ensure the model receives complete data.\n",
    "5. **Train-test split:** We split each cleaned subset into training and test data.\n",
    "6. **Model training and evaluation:** We fit a Logistic Regression model and record the accuracy for each experiment.\n",
    "7. **Result analysis:** By comparing accuracies, we see which features are critical. If removing a feature significantly reduces accuracy, it's likely important for prediction.\n",
    "\n",
    "> **Note:** Data cleaning (encoding, imputing) must be repeated after every new feature selection, because slicing from the original dataframe resets everything to its raw form.\n"
   ]
  },
  {
   "cell_type": "markdown",
   "id": "0a90e7f2",
   "metadata": {},
   "source": [
    "keypoint is : Slice → Encode → Impute → Split → Train → Evaluate → Repeat"
   ]
  },
  {
   "cell_type": "markdown",
   "id": "155f20d6",
   "metadata": {},
   "source": [
    "**Table:** Accuracy after removing each feature, compared to baseline.\n",
    "- The largest drop in accuracy shows which feature is most important.\n"
   ]
  },
  {
   "cell_type": "markdown",
   "id": "06e68522",
   "metadata": {},
   "source": [
    "**Insight & Answers:**\n",
    "- Which feature removal hurt accuracy the most? (See largest drop.)\n",
    "  - \"When we remove the feature Sex, the model accuracy drops the most (from 0.80 to 0.66).\"\n",
    "  - Insight:\n",
    "This means the Sex (gender) feature is highly predictive of survival on the Titanic.\n",
    "\n",
    "- Which feature seems least important? (Smallest drop.)\n",
    "  - Removing Parch or SibSp leads to almost no change in accuracy (remains at ~0.80)\n",
    "  - Insight:\n",
    "This suggests that the number of siblings/spouses or parents/children on board was not a strong predictor of survival compared to other features.\n",
    "- Why is gender or class so important?  \n",
    "  Example: \"During the Titanic disaster, women and children were prioritized for rescue. Passenger class often determined access to lifeboats.\"\n",
    "  - Class (Pclass):\n",
    "\"Passenger class determined access to lifeboats and cabins closer to the upper decks. First-class passengers were more likely to survive because they had better access to safety equipment and crew assistance.\"\n",
    "\n",
    "- Summary Insight:\n",
    "Both gender and passenger class are not just statistical features—they reflect real-world social policies and inequalities that directly affected survival rates during the Titanic tragedy.\n"
   ]
  },
  {
   "cell_type": "code",
   "execution_count": 16,
   "id": "8e92d85f",
   "metadata": {},
   "outputs": [
    {
     "data": {
      "image/png": "[encoded data removed]",
      "text/plain": [
       "<Figure size 500x300 with 1 Axes>"
      ]
     },
     "metadata": {},
     "output_type": "display_data"
    },
    {
     "data": {
      "image/png": "[encoded data removed]",
      "text/plain": [
       "<Figure size 500x300 with 1 Axes>"
      ]
     },
     "metadata": {},
     "output_type": "display_data"
    },
    {
     "data": {
      "image/png": "[encoded data removed]",
      "text/plain": [
       "<Figure size 500x300 with 1 Axes>"
      ]
     },
     "metadata": {},
     "output_type": "display_data"
    },
    {
     "data": {
      "image/png": "[encoded data removed]",
      "text/plain": [
       "<Figure size 500x300 with 1 Axes>"
      ]
     },
     "metadata": {},
     "output_type": "display_data"
    }
   ],
   "source": [
    "import matplotlib.pyplot as plt\n",
    "\n",
    "num_features = ['Age', 'Fare', 'SibSp', 'Parch']\n",
    "for col in num_features:\n",
    "    plt.figure(figsize=(5,3))\n",
    "    plt.hist(df[col].dropna(), bins=20)\n",
    "    plt.title(f'Distribution of {col}')\n",
    "    plt.xlabel(col)\n",
    "    plt.ylabel('Count')\n",
    "    plt.show()\n"
   ]
  },
  {
   "cell_type": "markdown",
   "id": "b531340e",
   "metadata": {},
   "source": [
    "#### Distribution of Age\n",
    "\n",
    "![Distribution of Age](../images/detective_distribution age.png)\n",
    "\n",
    "Most passengers are in their 20s and 30s, but there is a significant number of children and young adults as well. The distribution is right-skewed, showing fewer older passengers. This age pattern may influence survival chances, as both very young and older passengers could have different risks and priorities during a disaster.\n"
   ]
  },
  {
   "cell_type": "markdown",
   "id": "8a552521",
   "metadata": {},
   "source": [
    "#### Distribution of Fare\n",
    "\n",
    "![Distribution of Fare](../images/detective_distribution fare.png)\n",
    "\n",
    "Most passengers paid a relatively low fare, while only a small number paid very high fares. The distribution is heavily right-skewed, indicating a large gap between lower and upper-class ticket prices. Fare is often correlated with passenger class, which in turn can affect access to lifeboats and survival rates.\n"
   ]
  },
  {
   "cell_type": "markdown",
   "id": "52b515e3",
   "metadata": {},
   "source": [
    "#### Distribution of Parch\n",
    "\n",
    "![Distribution of Parch](../images/detective_distribution parch.png)\n",
    "\n",
    "The majority of passengers were traveling without parents or children (`Parch = 0`). Only a small proportion had 1–2 family members with them, and very few had larger groups. This indicates that most people on board were either traveling alone or with a spouse, not with large families.\n"
   ]
  },
  {
   "cell_type": "markdown",
   "id": "4e30ef91",
   "metadata": {},
   "source": [
    "#### Distribution of SibSp\n",
    "\n",
    "![Distribution of SibSp](../images/detective_distribution SibSp.png)\n",
    "\n",
    "Most passengers were traveling without siblings or spouses (`SibSp = 0`). Some had one or two, but higher numbers are rare. This feature helps us understand the family structures among passengers, which might influence survival behavior and group decisions.\n"
   ]
  }
 ],
 "metadata": {
  "kernelspec": {
   "display_name": "venv",
   "language": "python",
   "name": "python3"
  },
  "language_info": {
   "codemirror_mode": {
    "name": "ipython",
    "version": 3
   },
   "file_extension": ".py",
   "mimetype": "text/x-python",
   "name": "python",
   "nbconvert_exporter": "python",
   "pygments_lexer": "ipython3",
   "version": "3.11.0"
  }
 },
 "nbformat": 4,
 "nbformat_minor": 5
}
